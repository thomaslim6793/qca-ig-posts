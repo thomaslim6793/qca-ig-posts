{
 "cells": [
  {
   "cell_type": "markdown",
   "metadata": {},
   "source": [
    "# Get all predictions in the same table"
   ]
  },
  {
   "cell_type": "markdown",
   "metadata": {},
   "source": [
    "### Camera angle"
   ]
  },
  {
   "cell_type": "code",
<<<<<<< HEAD
   "execution_count": 9,
=======
   "execution_count": 1,
>>>>>>> main
   "metadata": {},
   "outputs": [],
   "source": [
    "import pandas as pd\n",
    "from pathlib import Path"
   ]
  },
  {
   "cell_type": "code",
<<<<<<< HEAD
   "execution_count": 10,
=======
   "execution_count": 2,
>>>>>>> main
   "metadata": {},
   "outputs": [],
   "source": [
    "path = Path('..')"
   ]
  },
  {
   "cell_type": "code",
<<<<<<< HEAD
   "execution_count": 11,
=======
   "execution_count": 3,
>>>>>>> main
   "metadata": {},
   "outputs": [
    {
     "data": {
      "text/plain": [
       "PosixPath('/Users/thomaslim/qca-ig-posts')"
      ]
     },
<<<<<<< HEAD
     "execution_count": 11,
=======
     "execution_count": 3,
>>>>>>> main
     "metadata": {},
     "output_type": "execute_result"
    }
   ],
   "source": [
    "path.resolve()"
   ]
  },
  {
   "cell_type": "code",
<<<<<<< HEAD
   "execution_count": 50,
=======
   "execution_count": 4,
>>>>>>> main
   "metadata": {},
   "outputs": [
    {
     "data": {
      "text/html": [
       "<div>\n",
       "<style scoped>\n",
       "    .dataframe tbody tr th:only-of-type {\n",
       "        vertical-align: middle;\n",
       "    }\n",
       "\n",
       "    .dataframe tbody tr th {\n",
       "        vertical-align: top;\n",
       "    }\n",
       "\n",
       "    .dataframe thead tr th {\n",
       "        text-align: left;\n",
       "    }\n",
       "\n",
       "    .dataframe thead tr:last-of-type th {\n",
       "        text-align: right;\n",
       "    }\n",
       "</style>\n",
       "<table border=\"1\" class=\"dataframe\">\n",
       "  <thead>\n",
       "    <tr>\n",
       "      <th></th>\n",
       "      <th>cam_angle</th>\n",
       "    </tr>\n",
       "    <tr>\n",
       "      <th></th>\n",
       "      <th>cam_angle</th>\n",
       "    </tr>\n",
       "    <tr>\n",
       "      <th>image</th>\n",
       "      <th></th>\n",
       "    </tr>\n",
       "  </thead>\n",
       "  <tbody>\n",
       "    <tr>\n",
       "      <th>6400.jpg</th>\n",
       "      <td>-2.010308</td>\n",
       "    </tr>\n",
       "    <tr>\n",
       "      <th>3578.jpg</th>\n",
       "      <td>1.046379</td>\n",
       "    </tr>\n",
       "    <tr>\n",
       "      <th>2666.jpg</th>\n",
       "      <td>0.069447</td>\n",
       "    </tr>\n",
       "    <tr>\n",
       "      <th>10447.jpg</th>\n",
       "      <td>-3.701865</td>\n",
       "    </tr>\n",
       "    <tr>\n",
       "      <th>1409.jpg</th>\n",
       "      <td>-0.451987</td>\n",
       "    </tr>\n",
       "  </tbody>\n",
       "</table>\n",
       "</div>"
      ],
      "text/plain": [
       "          cam_angle\n",
       "          cam_angle\n",
       "image              \n",
       "6400.jpg  -2.010308\n",
       "3578.jpg   1.046379\n",
       "2666.jpg   0.069447\n",
       "10447.jpg -3.701865\n",
       "1409.jpg  -0.451987"
      ]
     },
<<<<<<< HEAD
     "execution_count": 50,
=======
     "execution_count": 4,
>>>>>>> main
     "metadata": {},
     "output_type": "execute_result"
    }
   ],
   "source": [
    "df_cam_angle = pd.read_csv(path/'image-content-features/classification/camera-angle/image_201509_onlyrefugee_cam_angle.csv')\n",
    "# change index and column name\n",
    "df_cam_angle.set_index('image', inplace=True)\n",
    "df_cam_angle.drop('Unnamed: 0', axis=1, inplace=True)\n",
    "df_cam_angle.columns = ['cam_angle']\n",
    "# Perform regex on image name to get image id e.g. /Users/thomaslim/data/image_201509_onlyrefugee/6400.jpg -> 6400.jpg\n",
    "df_cam_angle.index = df_cam_angle.index.str.extract('(\\d+\\.jpg)', expand=False)\n",
    "df_cam_angle.columns = pd.MultiIndex.from_tuples([('cam_angle', col) for col in df_cam_angle.columns])\n",
    "df_cam_angle.head()"
   ]
  },
  {
   "cell_type": "markdown",
   "metadata": {},
   "source": [
    "### Color diversity"
   ]
  },
  {
   "cell_type": "code",
<<<<<<< HEAD
   "execution_count": 51,
=======
   "execution_count": 5,
>>>>>>> main
   "metadata": {},
   "outputs": [
    {
     "data": {
      "text/html": [
       "<div>\n",
       "<style scoped>\n",
       "    .dataframe tbody tr th:only-of-type {\n",
       "        vertical-align: middle;\n",
       "    }\n",
       "\n",
       "    .dataframe tbody tr th {\n",
       "        vertical-align: top;\n",
       "    }\n",
       "\n",
       "    .dataframe thead tr th {\n",
       "        text-align: left;\n",
       "    }\n",
       "\n",
       "    .dataframe thead tr:last-of-type th {\n",
       "        text-align: right;\n",
       "    }\n",
       "</style>\n",
       "<table border=\"1\" class=\"dataframe\">\n",
       "  <thead>\n",
       "    <tr>\n",
       "      <th></th>\n",
       "      <th>color_entropy</th>\n",
       "    </tr>\n",
       "    <tr>\n",
       "      <th></th>\n",
       "      <th>color_entropy</th>\n",
       "    </tr>\n",
       "    <tr>\n",
       "      <th>image</th>\n",
       "      <th></th>\n",
       "    </tr>\n",
       "  </thead>\n",
       "  <tbody>\n",
       "    <tr>\n",
       "      <th>9743.jpg</th>\n",
       "      <td>18.740482</td>\n",
       "    </tr>\n",
       "    <tr>\n",
       "      <th>9734.jpg</th>\n",
       "      <td>22.222360</td>\n",
       "    </tr>\n",
       "    <tr>\n",
       "      <th>9740.jpg</th>\n",
       "      <td>15.738178</td>\n",
       "    </tr>\n",
       "    <tr>\n",
       "      <th>9739.jpg</th>\n",
       "      <td>23.142397</td>\n",
       "    </tr>\n",
       "    <tr>\n",
       "      <th>9718.jpg</th>\n",
       "      <td>23.118996</td>\n",
       "    </tr>\n",
       "  </tbody>\n",
       "</table>\n",
       "</div>"
      ],
      "text/plain": [
       "         color_entropy\n",
       "         color_entropy\n",
       "image                 \n",
       "9743.jpg     18.740482\n",
       "9734.jpg     22.222360\n",
       "9740.jpg     15.738178\n",
       "9739.jpg     23.142397\n",
       "9718.jpg     23.118996"
      ]
     },
<<<<<<< HEAD
     "execution_count": 51,
=======
     "execution_count": 5,
>>>>>>> main
     "metadata": {},
     "output_type": "execute_result"
    }
   ],
   "source": [
    "df_color_diversity = pd.read_csv(path/'image-content-features/classification/color-diversity/color_entropy.csv')\n",
    "df_color_diversity.set_index('Unnamed: 0', inplace=True)\n",
    "df_color_diversity.rename_axis('image', axis=0,inplace=True)\n",
    "\n",
    "df_color_diversity.index = df_color_diversity.index.str.extract('(\\d+\\.jpg)', expand=False)\n",
    "df_color_diversity.columns = pd.MultiIndex.from_tuples([('color_entropy', col) for col in df_color_diversity.columns])\n",
    "df_color_diversity.head()"
   ]
  },
  {
   "cell_type": "markdown",
   "metadata": {},
   "source": [
    "### Age-gender-race"
   ]
  },
  {
   "cell_type": "code",
<<<<<<< HEAD
   "execution_count": 53,
=======
   "execution_count": 6,
>>>>>>> main
   "metadata": {},
   "outputs": [
    {
     "data": {
      "text/html": [
       "<div>\n",
       "<style scoped>\n",
       "    .dataframe tbody tr th:only-of-type {\n",
       "        vertical-align: middle;\n",
       "    }\n",
       "\n",
       "    .dataframe tbody tr th {\n",
       "        vertical-align: top;\n",
       "    }\n",
       "\n",
       "    .dataframe thead tr th {\n",
       "        text-align: left;\n",
       "    }\n",
       "\n",
       "    .dataframe thead tr:last-of-type th {\n",
       "        text-align: right;\n",
       "    }\n",
       "</style>\n",
       "<table border=\"1\" class=\"dataframe\">\n",
       "  <thead>\n",
       "    <tr>\n",
       "      <th></th>\n",
       "      <th colspan=\"21\" halign=\"left\">age_gender_race</th>\n",
       "    </tr>\n",
       "    <tr>\n",
       "      <th></th>\n",
       "      <th>AdultFemaleAA</th>\n",
       "      <th>AdultFemaleAsian</th>\n",
       "      <th>AdultFemaleLat</th>\n",
       "      <th>AdultFemaleWhite</th>\n",
       "      <th>AdultMaleAA</th>\n",
       "      <th>AdultMaleAsian</th>\n",
       "      <th>AdultMaleLat</th>\n",
       "      <th>AdultMaleWhite</th>\n",
       "      <th>Animal</th>\n",
       "      <th>AnimatedAnimal</th>\n",
       "      <th>...</th>\n",
       "      <th>TeenMaleLat</th>\n",
       "      <th>TeenMaleWhite</th>\n",
       "      <th>ToddlerFemaleAA</th>\n",
       "      <th>ToddlerFemaleAsian</th>\n",
       "      <th>ToddlerFemaleLat</th>\n",
       "      <th>ToddlerFemaleWhite</th>\n",
       "      <th>ToddlerMaleAA</th>\n",
       "      <th>ToddlerMaleAsian</th>\n",
       "      <th>ToddlerMaleLat</th>\n",
       "      <th>ToddlerMaleWhite</th>\n",
       "    </tr>\n",
       "    <tr>\n",
       "      <th>image</th>\n",
       "      <th></th>\n",
       "      <th></th>\n",
       "      <th></th>\n",
       "      <th></th>\n",
       "      <th></th>\n",
       "      <th></th>\n",
       "      <th></th>\n",
       "      <th></th>\n",
       "      <th></th>\n",
       "      <th></th>\n",
       "      <th></th>\n",
       "      <th></th>\n",
       "      <th></th>\n",
       "      <th></th>\n",
       "      <th></th>\n",
       "      <th></th>\n",
       "      <th></th>\n",
       "      <th></th>\n",
       "      <th></th>\n",
       "      <th></th>\n",
       "      <th></th>\n",
       "    </tr>\n",
       "  </thead>\n",
       "  <tbody>\n",
       "    <tr>\n",
       "      <th>9743.jpg</th>\n",
       "      <td>0.0</td>\n",
       "      <td>0.0</td>\n",
       "      <td>0.0</td>\n",
       "      <td>0.0</td>\n",
       "      <td>0.0</td>\n",
       "      <td>0.0</td>\n",
       "      <td>0.0</td>\n",
       "      <td>1.0</td>\n",
       "      <td>0.0</td>\n",
       "      <td>0.0</td>\n",
       "      <td>...</td>\n",
       "      <td>0.0</td>\n",
       "      <td>0.0</td>\n",
       "      <td>0.0</td>\n",
       "      <td>0.0</td>\n",
       "      <td>0.0</td>\n",
       "      <td>0.0</td>\n",
       "      <td>0.0</td>\n",
       "      <td>0.0</td>\n",
       "      <td>0.0</td>\n",
       "      <td>0.0</td>\n",
       "    </tr>\n",
       "    <tr>\n",
       "      <th>9734.jpg</th>\n",
       "      <td>0.0</td>\n",
       "      <td>0.0</td>\n",
       "      <td>0.0</td>\n",
       "      <td>0.0</td>\n",
       "      <td>0.0</td>\n",
       "      <td>0.0</td>\n",
       "      <td>0.0</td>\n",
       "      <td>0.0</td>\n",
       "      <td>0.0</td>\n",
       "      <td>0.0</td>\n",
       "      <td>...</td>\n",
       "      <td>0.0</td>\n",
       "      <td>0.0</td>\n",
       "      <td>0.0</td>\n",
       "      <td>0.0</td>\n",
       "      <td>0.0</td>\n",
       "      <td>0.0</td>\n",
       "      <td>0.0</td>\n",
       "      <td>0.0</td>\n",
       "      <td>0.0</td>\n",
       "      <td>0.0</td>\n",
       "    </tr>\n",
       "    <tr>\n",
       "      <th>9740.jpg</th>\n",
       "      <td>0.0</td>\n",
       "      <td>0.0</td>\n",
       "      <td>0.0</td>\n",
       "      <td>0.0</td>\n",
       "      <td>0.0</td>\n",
       "      <td>0.0</td>\n",
       "      <td>0.0</td>\n",
       "      <td>0.0</td>\n",
       "      <td>0.0</td>\n",
       "      <td>0.0</td>\n",
       "      <td>...</td>\n",
       "      <td>0.0</td>\n",
       "      <td>0.0</td>\n",
       "      <td>0.0</td>\n",
       "      <td>0.0</td>\n",
       "      <td>0.0</td>\n",
       "      <td>0.0</td>\n",
       "      <td>0.0</td>\n",
       "      <td>0.0</td>\n",
       "      <td>0.0</td>\n",
       "      <td>0.0</td>\n",
       "    </tr>\n",
       "    <tr>\n",
       "      <th>9739.jpg</th>\n",
       "      <td>0.0</td>\n",
       "      <td>0.0</td>\n",
       "      <td>0.0</td>\n",
       "      <td>0.0</td>\n",
       "      <td>0.0</td>\n",
       "      <td>0.0</td>\n",
       "      <td>0.0</td>\n",
       "      <td>0.0</td>\n",
       "      <td>0.0</td>\n",
       "      <td>0.0</td>\n",
       "      <td>...</td>\n",
       "      <td>0.0</td>\n",
       "      <td>0.0</td>\n",
       "      <td>0.0</td>\n",
       "      <td>0.0</td>\n",
       "      <td>0.0</td>\n",
       "      <td>0.0</td>\n",
       "      <td>0.0</td>\n",
       "      <td>0.0</td>\n",
       "      <td>0.0</td>\n",
       "      <td>0.0</td>\n",
       "    </tr>\n",
       "    <tr>\n",
       "      <th>9718.jpg</th>\n",
       "      <td>0.0</td>\n",
       "      <td>0.0</td>\n",
       "      <td>0.0</td>\n",
       "      <td>0.0</td>\n",
       "      <td>1.0</td>\n",
       "      <td>0.0</td>\n",
       "      <td>0.0</td>\n",
       "      <td>1.0</td>\n",
       "      <td>0.0</td>\n",
       "      <td>0.0</td>\n",
       "      <td>...</td>\n",
       "      <td>0.0</td>\n",
       "      <td>0.0</td>\n",
       "      <td>0.0</td>\n",
       "      <td>0.0</td>\n",
       "      <td>0.0</td>\n",
       "      <td>0.0</td>\n",
       "      <td>0.0</td>\n",
       "      <td>0.0</td>\n",
       "      <td>0.0</td>\n",
       "      <td>0.0</td>\n",
       "    </tr>\n",
       "  </tbody>\n",
       "</table>\n",
       "<p>5 rows × 50 columns</p>\n",
       "</div>"
      ],
      "text/plain": [
       "         age_gender_race                                                   \\\n",
       "           AdultFemaleAA AdultFemaleAsian AdultFemaleLat AdultFemaleWhite   \n",
       "image                                                                       \n",
       "9743.jpg             0.0              0.0            0.0              0.0   \n",
       "9734.jpg             0.0              0.0            0.0              0.0   \n",
       "9740.jpg             0.0              0.0            0.0              0.0   \n",
       "9739.jpg             0.0              0.0            0.0              0.0   \n",
       "9718.jpg             0.0              0.0            0.0              0.0   \n",
       "\n",
       "                                                                        \\\n",
       "         AdultMaleAA AdultMaleAsian AdultMaleLat AdultMaleWhite Animal   \n",
       "image                                                                    \n",
       "9743.jpg         0.0            0.0          0.0            1.0    0.0   \n",
       "9734.jpg         0.0            0.0          0.0            0.0    0.0   \n",
       "9740.jpg         0.0            0.0          0.0            0.0    0.0   \n",
       "9739.jpg         0.0            0.0          0.0            0.0    0.0   \n",
       "9718.jpg         1.0            0.0          0.0            1.0    0.0   \n",
       "\n",
       "                         ...                                            \\\n",
       "         AnimatedAnimal  ... TeenMaleLat TeenMaleWhite ToddlerFemaleAA   \n",
       "image                    ...                                             \n",
       "9743.jpg            0.0  ...         0.0           0.0             0.0   \n",
       "9734.jpg            0.0  ...         0.0           0.0             0.0   \n",
       "9740.jpg            0.0  ...         0.0           0.0             0.0   \n",
       "9739.jpg            0.0  ...         0.0           0.0             0.0   \n",
       "9718.jpg            0.0  ...         0.0           0.0             0.0   \n",
       "\n",
       "                                                                               \\\n",
       "         ToddlerFemaleAsian ToddlerFemaleLat ToddlerFemaleWhite ToddlerMaleAA   \n",
       "image                                                                           \n",
       "9743.jpg                0.0              0.0                0.0           0.0   \n",
       "9734.jpg                0.0              0.0                0.0           0.0   \n",
       "9740.jpg                0.0              0.0                0.0           0.0   \n",
       "9739.jpg                0.0              0.0                0.0           0.0   \n",
       "9718.jpg                0.0              0.0                0.0           0.0   \n",
       "\n",
       "                                                           \n",
       "         ToddlerMaleAsian ToddlerMaleLat ToddlerMaleWhite  \n",
       "image                                                      \n",
       "9743.jpg              0.0            0.0              0.0  \n",
       "9734.jpg              0.0            0.0              0.0  \n",
       "9740.jpg              0.0            0.0              0.0  \n",
       "9739.jpg              0.0            0.0              0.0  \n",
       "9718.jpg              0.0            0.0              0.0  \n",
       "\n",
       "[5 rows x 50 columns]"
      ]
     },
<<<<<<< HEAD
     "execution_count": 53,
=======
     "execution_count": 6,
>>>>>>> main
     "metadata": {},
     "output_type": "execute_result"
    }
   ],
   "source": [
    "df_age_gender_race = pd.read_csv(path/'image-content-features/object-detection/age_gender_race/image_201509_onlyrefugee_age_gender_race.csv')\n",
    "df_age_gender_race.set_index('Unnamed: 0', inplace=True)\n",
    "df_age_gender_race.rename_axis('image', axis=0,inplace=True)\n",
    "\n",
    "df_age_gender_race.index = df_age_gender_race.index.str.extract('(\\d+\\.jpg)', expand=False)\n",
    "df_age_gender_race.columns = pd.MultiIndex.from_tuples([('age_gender_race', col) for col in df_age_gender_race.columns])\n",
    "df_age_gender_race.head()"
   ]
  },
  {
   "cell_type": "markdown",
   "metadata": {},
   "source": [
    "### Camera shot"
   ]
  },
  {
   "cell_type": "code",
<<<<<<< HEAD
   "execution_count": 59,
=======
   "execution_count": 7,
>>>>>>> main
   "metadata": {},
   "outputs": [
    {
     "data": {
      "text/html": [
       "<div>\n",
       "<style scoped>\n",
       "    .dataframe tbody tr th:only-of-type {\n",
       "        vertical-align: middle;\n",
       "    }\n",
       "\n",
       "    .dataframe tbody tr th {\n",
       "        vertical-align: top;\n",
       "    }\n",
       "\n",
       "    .dataframe thead tr th {\n",
       "        text-align: left;\n",
       "    }\n",
       "\n",
       "    .dataframe thead tr:last-of-type th {\n",
       "        text-align: right;\n",
       "    }\n",
       "</style>\n",
       "<table border=\"1\" class=\"dataframe\">\n",
       "  <thead>\n",
       "    <tr>\n",
       "      <th></th>\n",
       "      <th>camera_shot</th>\n",
       "    </tr>\n",
       "    <tr>\n",
       "      <th></th>\n",
<<<<<<< HEAD
       "      <th>camera-shot</th>\n",
=======
       "      <th>camera_shot</th>\n",
>>>>>>> main
       "    </tr>\n",
       "    <tr>\n",
       "      <th>image</th>\n",
       "      <th></th>\n",
       "    </tr>\n",
       "  </thead>\n",
       "  <tbody>\n",
       "    <tr>\n",
       "      <th>9743.jpg</th>\n",
       "      <td>CS</td>\n",
       "    </tr>\n",
       "    <tr>\n",
       "      <th>9734.jpg</th>\n",
       "      <td>CS</td>\n",
       "    </tr>\n",
       "    <tr>\n",
       "      <th>9740.jpg</th>\n",
       "      <td>CS</td>\n",
       "    </tr>\n",
       "    <tr>\n",
       "      <th>9739.jpg</th>\n",
       "      <td>FS</td>\n",
       "    </tr>\n",
       "    <tr>\n",
       "      <th>9718.jpg</th>\n",
       "      <td>MS</td>\n",
       "    </tr>\n",
       "  </tbody>\n",
       "</table>\n",
       "</div>"
      ],
      "text/plain": [
       "         camera_shot\n",
<<<<<<< HEAD
       "         camera-shot\n",
=======
       "         camera_shot\n",
>>>>>>> main
       "image               \n",
       "9743.jpg          CS\n",
       "9734.jpg          CS\n",
       "9740.jpg          CS\n",
       "9739.jpg          FS\n",
       "9718.jpg          MS"
      ]
     },
<<<<<<< HEAD
     "execution_count": 59,
=======
     "execution_count": 7,
>>>>>>> main
     "metadata": {},
     "output_type": "execute_result"
    }
   ],
   "source": [
    "df_camera_shot = pd.read_csv('/Users/thomaslim/qca-ig-posts/image-content-features/object-detection/camera-shot/image_201509_onlyrefugee_camera_shot.csv')\n",
    "df_camera_shot.set_index('Unnamed: 0', inplace=True)\n",
    "df_camera_shot.rename_axis('image', axis=0,inplace=True)\n",
    "# For each row, find the column which has the highest value and set that value to 1 and rest to 0\n",
    "df_camera_shot = df_camera_shot.eq(df_camera_shot.max(1), axis=0).astype(int)\n",
    "\n",
    "df_camera_shot.index = df_camera_shot.index.str.extract('(\\d+\\.jpg)', expand=False)\n",
<<<<<<< HEAD
    "df_camera_shot=df_camera_shot.idxmax(axis=1).to_frame().rename({0: 'camera-shot'}, axis=1)\n",
=======
    "df_camera_shot=df_camera_shot.idxmax(axis=1).to_frame().rename({0: 'camera_shot'}, axis=1)\n",
>>>>>>> main
    "df_camera_shot.columns = pd.MultiIndex.from_tuples([('camera_shot', col) for col in df_camera_shot.columns])\n",
    "df_camera_shot.head()"
   ]
  },
  {
   "cell_type": "markdown",
   "metadata": {},
   "source": [
    "### Eye-contact"
   ]
  },
  {
   "cell_type": "code",
<<<<<<< HEAD
   "execution_count": 55,
=======
   "execution_count": 8,
>>>>>>> main
   "metadata": {},
   "outputs": [
    {
     "data": {
      "text/html": [
       "<div>\n",
       "<style scoped>\n",
       "    .dataframe tbody tr th:only-of-type {\n",
       "        vertical-align: middle;\n",
       "    }\n",
       "\n",
       "    .dataframe tbody tr th {\n",
       "        vertical-align: top;\n",
       "    }\n",
       "\n",
       "    .dataframe thead th {\n",
       "        text-align: right;\n",
       "    }\n",
       "</style>\n",
       "<table border=\"1\" class=\"dataframe\">\n",
       "  <thead>\n",
       "    <tr style=\"text-align: right;\">\n",
       "      <th></th>\n",
       "      <th>image_name</th>\n",
       "      <th>boxes</th>\n",
       "      <th>keypoints</th>\n",
       "      <th>labels</th>\n",
       "    </tr>\n",
       "  </thead>\n",
       "  <tbody>\n",
       "    <tr>\n",
       "      <th>0</th>\n",
       "      <td>0.jpg</td>\n",
       "      <td>[[190.162, 115.2355, 950.4580000000001, 630, 0...</td>\n",
       "      <td>[[[473.39, 533.73, 453.98, 662.89, 453.83, 811...</td>\n",
       "      <td>[1]</td>\n",
       "    </tr>\n",
       "    <tr>\n",
       "      <th>1</th>\n",
       "      <td>14.jpg</td>\n",
       "      <td>[[95.638, 155.724, 239.662, 283, 0.501], [353....</td>\n",
       "      <td>[[[128.74, 139.48, 125.14, 169.49, 126.91, 195...</td>\n",
       "      <td>[1, 0]</td>\n",
       "    </tr>\n",
       "    <tr>\n",
       "      <th>2</th>\n",
       "      <td>15.jpg</td>\n",
       "      <td>[[82.91, 69.951, 199.54999999999998, 292.12899...</td>\n",
       "      <td>[[[173.31, 176.04, 171.31, 163.2, 159.44, 165....</td>\n",
       "      <td>[0, 0, 1, 1, 1, 0, 0]</td>\n",
       "    </tr>\n",
       "    <tr>\n",
       "      <th>3</th>\n",
       "      <td>11.jpg</td>\n",
       "      <td>[]</td>\n",
       "      <td>[]</td>\n",
       "      <td>[]</td>\n",
       "    </tr>\n",
       "    <tr>\n",
       "      <th>4</th>\n",
       "      <td>17.jpg</td>\n",
       "      <td>[[0, 111.4925, 356.19599999999997, 360, 0.536]]</td>\n",
       "      <td>[[[280.78, 285.84, 254.44, 294.8, 185.52, 288....</td>\n",
       "      <td>[0]</td>\n",
       "    </tr>\n",
       "  </tbody>\n",
       "</table>\n",
       "</div>"
      ],
      "text/plain": [
       "  image_name                                              boxes  \\\n",
       "0      0.jpg  [[190.162, 115.2355, 950.4580000000001, 630, 0...   \n",
       "1     14.jpg  [[95.638, 155.724, 239.662, 283, 0.501], [353....   \n",
       "2     15.jpg  [[82.91, 69.951, 199.54999999999998, 292.12899...   \n",
       "3     11.jpg                                                 []   \n",
       "4     17.jpg    [[0, 111.4925, 356.19599999999997, 360, 0.536]]   \n",
       "\n",
       "                                           keypoints                 labels  \n",
       "0  [[[473.39, 533.73, 453.98, 662.89, 453.83, 811...                    [1]  \n",
       "1  [[[128.74, 139.48, 125.14, 169.49, 126.91, 195...                 [1, 0]  \n",
       "2  [[[173.31, 176.04, 171.31, 163.2, 159.44, 165....  [0, 0, 1, 1, 1, 0, 0]  \n",
       "3                                                 []                     []  \n",
       "4  [[[280.78, 285.84, 254.44, 294.8, 185.52, 288....                    [0]  "
      ]
     },
<<<<<<< HEAD
     "execution_count": 55,
=======
     "execution_count": 8,
>>>>>>> main
     "metadata": {},
     "output_type": "execute_result"
    }
   ],
   "source": [
    "df_eye_contact = pd.read_csv(path/'image-content-features/object-detection/eye-contact/looking_output/image_201509_onlyrefugee_eye_contact.csv')\n",
    "df_eye_contact.head()"
   ]
  },
  {
   "cell_type": "code",
<<<<<<< HEAD
   "execution_count": 56,
=======
   "execution_count": 9,
>>>>>>> main
   "metadata": {},
   "outputs": [],
   "source": [
    "df_eye_contact.set_index('image_name', inplace=True)\n",
    "df_eye_contact.rename_axis('image', axis=0,inplace=True)\n",
    "df_eye_contact.drop(['boxes', 'keypoints'], axis=1, inplace=True)\n",
    "df_eye_contact.rename(columns={'labels': 'num_eye_contact'}, inplace=True)"
   ]
  },
  {
   "cell_type": "code",
<<<<<<< HEAD
   "execution_count": 57,
=======
   "execution_count": 10,
>>>>>>> main
   "metadata": {},
   "outputs": [],
   "source": [
    "df_eye_contact['num_eye_contact'] = df_eye_contact['num_eye_contact'].apply(lambda x: [i for i in x.strip('[]').split(',')])   \n",
    "df_eye_contact['num_eye_contact'] = df_eye_contact['num_eye_contact'].apply(lambda x: 0 if x == [''] else sum([int(i) for i in x]))"
   ]
  },
  {
   "cell_type": "code",
<<<<<<< HEAD
   "execution_count": 58,
=======
   "execution_count": 11,
>>>>>>> main
   "metadata": {},
   "outputs": [
    {
     "data": {
      "text/html": [
       "<div>\n",
       "<style scoped>\n",
       "    .dataframe tbody tr th:only-of-type {\n",
       "        vertical-align: middle;\n",
       "    }\n",
       "\n",
       "    .dataframe tbody tr th {\n",
       "        vertical-align: top;\n",
       "    }\n",
       "\n",
       "    .dataframe thead tr th {\n",
       "        text-align: left;\n",
       "    }\n",
       "\n",
       "    .dataframe thead tr:last-of-type th {\n",
       "        text-align: right;\n",
       "    }\n",
       "</style>\n",
       "<table border=\"1\" class=\"dataframe\">\n",
       "  <thead>\n",
       "    <tr>\n",
       "      <th></th>\n",
       "      <th>num_eye_contact</th>\n",
       "    </tr>\n",
       "    <tr>\n",
       "      <th></th>\n",
       "      <th>num_eye_contact</th>\n",
       "    </tr>\n",
       "    <tr>\n",
       "      <th>image</th>\n",
       "      <th></th>\n",
       "    </tr>\n",
       "  </thead>\n",
       "  <tbody>\n",
       "    <tr>\n",
       "      <th>0.jpg</th>\n",
       "      <td>1</td>\n",
       "    </tr>\n",
       "    <tr>\n",
       "      <th>14.jpg</th>\n",
       "      <td>1</td>\n",
       "    </tr>\n",
       "    <tr>\n",
       "      <th>15.jpg</th>\n",
       "      <td>3</td>\n",
       "    </tr>\n",
       "    <tr>\n",
       "      <th>11.jpg</th>\n",
       "      <td>0</td>\n",
       "    </tr>\n",
       "    <tr>\n",
       "      <th>17.jpg</th>\n",
       "      <td>0</td>\n",
       "    </tr>\n",
       "  </tbody>\n",
       "</table>\n",
       "</div>"
      ],
      "text/plain": [
       "       num_eye_contact\n",
       "       num_eye_contact\n",
       "image                 \n",
       "0.jpg                1\n",
       "14.jpg               1\n",
       "15.jpg               3\n",
       "11.jpg               0\n",
       "17.jpg               0"
      ]
     },
<<<<<<< HEAD
     "execution_count": 58,
=======
     "execution_count": 11,
>>>>>>> main
     "metadata": {},
     "output_type": "execute_result"
    }
   ],
   "source": [
    "df_eye_contact.index = df_eye_contact.index.str.extract('(\\d+\\.jpg)', expand=False)\n",
    "df_eye_contact.columns = pd.MultiIndex.from_tuples([('num_eye_contact', col) for col in df_eye_contact.columns])\n",
    "df_eye_contact.head()"
   ]
  },
  {
   "cell_type": "markdown",
   "metadata": {},
   "source": [
    "### Facial expression"
   ]
  },
  {
   "cell_type": "code",
<<<<<<< HEAD
   "execution_count": 37,
=======
   "execution_count": 12,
>>>>>>> main
   "metadata": {},
   "outputs": [],
   "source": [
    "df_facial_expression = pd.read_csv(path/'image-content-features/object-detection/facial-expression/image_201509_onlyrefugee_facial_expressions.csv')\n",
    "df_facial_expression.set_index('Unnamed: 0', inplace=True)\n",
    "df_facial_expression.rename_axis('image', axis=0,inplace=True)"
   ]
  },
  {
   "cell_type": "code",
<<<<<<< HEAD
   "execution_count": 43,
=======
   "execution_count": 13,
>>>>>>> main
   "metadata": {},
   "outputs": [
    {
     "data": {
      "text/html": [
       "<div>\n",
       "<style scoped>\n",
       "    .dataframe tbody tr th:only-of-type {\n",
       "        vertical-align: middle;\n",
       "    }\n",
       "\n",
       "    .dataframe tbody tr th {\n",
       "        vertical-align: top;\n",
       "    }\n",
       "\n",
       "    .dataframe thead tr th {\n",
       "        text-align: left;\n",
       "    }\n",
       "\n",
       "    .dataframe thead tr:last-of-type th {\n",
       "        text-align: right;\n",
       "    }\n",
       "</style>\n",
       "<table border=\"1\" class=\"dataframe\">\n",
       "  <thead>\n",
       "    <tr>\n",
       "      <th></th>\n",
       "      <th colspan=\"6\" halign=\"left\">expression</th>\n",
       "    </tr>\n",
       "    <tr>\n",
       "      <th></th>\n",
       "      <th>angry</th>\n",
       "      <th>disappointed</th>\n",
       "      <th>happy</th>\n",
       "      <th>neutral</th>\n",
       "      <th>sad</th>\n",
       "      <th>surprised</th>\n",
       "    </tr>\n",
       "    <tr>\n",
       "      <th>image</th>\n",
       "      <th></th>\n",
       "      <th></th>\n",
       "      <th></th>\n",
       "      <th></th>\n",
       "      <th></th>\n",
       "      <th></th>\n",
       "    </tr>\n",
       "  </thead>\n",
       "  <tbody>\n",
       "    <tr>\n",
       "      <th>9743.jpg</th>\n",
       "      <td>0.0</td>\n",
       "      <td>0.0</td>\n",
       "      <td>0.0</td>\n",
       "      <td>1.0</td>\n",
       "      <td>0.0</td>\n",
       "      <td>0.0</td>\n",
       "    </tr>\n",
       "    <tr>\n",
       "      <th>9734.jpg</th>\n",
       "      <td>0.0</td>\n",
       "      <td>0.0</td>\n",
       "      <td>0.0</td>\n",
       "      <td>0.0</td>\n",
       "      <td>0.0</td>\n",
       "      <td>0.0</td>\n",
       "    </tr>\n",
       "    <tr>\n",
       "      <th>9740.jpg</th>\n",
       "      <td>0.0</td>\n",
       "      <td>0.0</td>\n",
       "      <td>0.0</td>\n",
       "      <td>0.0</td>\n",
       "      <td>0.0</td>\n",
       "      <td>0.0</td>\n",
       "    </tr>\n",
       "    <tr>\n",
       "      <th>9739.jpg</th>\n",
       "      <td>0.0</td>\n",
       "      <td>0.0</td>\n",
       "      <td>0.0</td>\n",
       "      <td>0.0</td>\n",
       "      <td>0.0</td>\n",
       "      <td>0.0</td>\n",
       "    </tr>\n",
       "    <tr>\n",
       "      <th>9718.jpg</th>\n",
       "      <td>0.0</td>\n",
       "      <td>0.0</td>\n",
       "      <td>0.0</td>\n",
       "      <td>1.0</td>\n",
       "      <td>0.0</td>\n",
       "      <td>0.0</td>\n",
       "    </tr>\n",
       "  </tbody>\n",
       "</table>\n",
       "</div>"
      ],
      "text/plain": [
       "         expression                                          \n",
       "              angry disappointed happy neutral  sad surprised\n",
       "image                                                        \n",
       "9743.jpg        0.0          0.0   0.0     1.0  0.0       0.0\n",
       "9734.jpg        0.0          0.0   0.0     0.0  0.0       0.0\n",
       "9740.jpg        0.0          0.0   0.0     0.0  0.0       0.0\n",
       "9739.jpg        0.0          0.0   0.0     0.0  0.0       0.0\n",
       "9718.jpg        0.0          0.0   0.0     1.0  0.0       0.0"
      ]
     },
<<<<<<< HEAD
     "execution_count": 43,
=======
     "execution_count": 13,
>>>>>>> main
     "metadata": {},
     "output_type": "execute_result"
    }
   ],
   "source": [
    "df_facial_expression.index = df_facial_expression.index.str.extract('(\\d+\\.jpg)', expand=False)\n",
    "multi_index = pd.MultiIndex.from_tuples([('expression', column) for column in df_facial_expression.columns])\n",
    "df_facial_expression.columns = multi_index\n",
    "df_facial_expression.head()"
   ]
  },
  {
   "cell_type": "markdown",
   "metadata": {},
   "source": [
    "### Number of people"
   ]
  },
  {
   "cell_type": "code",
<<<<<<< HEAD
   "execution_count": 60,
=======
   "execution_count": 14,
>>>>>>> main
   "metadata": {},
   "outputs": [
    {
     "data": {
      "text/html": [
       "<div>\n",
       "<style scoped>\n",
       "    .dataframe tbody tr th:only-of-type {\n",
       "        vertical-align: middle;\n",
       "    }\n",
       "\n",
       "    .dataframe tbody tr th {\n",
       "        vertical-align: top;\n",
       "    }\n",
       "\n",
       "    .dataframe thead tr th {\n",
       "        text-align: left;\n",
       "    }\n",
       "\n",
       "    .dataframe thead tr:last-of-type th {\n",
       "        text-align: right;\n",
       "    }\n",
       "</style>\n",
       "<table border=\"1\" class=\"dataframe\">\n",
       "  <thead>\n",
       "    <tr>\n",
       "      <th></th>\n",
       "      <th>num_people</th>\n",
       "    </tr>\n",
       "    <tr>\n",
       "      <th></th>\n",
       "      <th>num_people</th>\n",
       "    </tr>\n",
       "    <tr>\n",
       "      <th>image</th>\n",
       "      <th></th>\n",
       "    </tr>\n",
       "  </thead>\n",
       "  <tbody>\n",
       "    <tr>\n",
       "      <th>9743.jpg</th>\n",
       "      <td>3</td>\n",
       "    </tr>\n",
       "    <tr>\n",
       "      <th>9734.jpg</th>\n",
       "      <td>3</td>\n",
       "    </tr>\n",
       "    <tr>\n",
       "      <th>9740.jpg</th>\n",
       "      <td>2</td>\n",
       "    </tr>\n",
       "    <tr>\n",
       "      <th>9739.jpg</th>\n",
       "      <td>4</td>\n",
       "    </tr>\n",
       "    <tr>\n",
       "      <th>9718.jpg</th>\n",
       "      <td>6</td>\n",
       "    </tr>\n",
       "  </tbody>\n",
       "</table>\n",
       "</div>"
      ],
      "text/plain": [
       "         num_people\n",
       "         num_people\n",
       "image              \n",
       "9743.jpg          3\n",
       "9734.jpg          3\n",
       "9740.jpg          2\n",
       "9739.jpg          4\n",
       "9718.jpg          6"
      ]
     },
<<<<<<< HEAD
     "execution_count": 60,
=======
     "execution_count": 14,
>>>>>>> main
     "metadata": {},
     "output_type": "execute_result"
    }
   ],
   "source": [
    "df_num_people = pd.read_csv(path/'image-content-features/object-detection/num_people/image_201509_onlyrefugee_person.csv')\n",
    "df_num_people.set_index('Unnamed: 0', inplace=True)\n",
    "df_num_people.rename_axis('image', axis=0,inplace=True)\n",
    "\n",
    "df_num_people.index = df_num_people.index.str.extract('(\\d+\\.jpg)', expand=False)\n",
    "df_num_people.columns = pd.MultiIndex.from_tuples([('num_people', col) for col in df_num_people.columns])\n",
    "df_num_people.head()"
   ]
  },
  {
   "cell_type": "markdown",
   "metadata": {},
   "source": [
    "### Police_presence"
   ]
  },
  {
   "cell_type": "code",
<<<<<<< HEAD
   "execution_count": 61,
=======
   "execution_count": 15,
>>>>>>> main
   "metadata": {},
   "outputs": [
    {
     "data": {
      "text/html": [
       "<div>\n",
       "<style scoped>\n",
       "    .dataframe tbody tr th:only-of-type {\n",
       "        vertical-align: middle;\n",
       "    }\n",
       "\n",
       "    .dataframe tbody tr th {\n",
       "        vertical-align: top;\n",
       "    }\n",
       "\n",
       "    .dataframe thead tr th {\n",
       "        text-align: left;\n",
       "    }\n",
       "\n",
       "    .dataframe thead tr:last-of-type th {\n",
       "        text-align: right;\n",
       "    }\n",
       "</style>\n",
       "<table border=\"1\" class=\"dataframe\">\n",
       "  <thead>\n",
       "    <tr>\n",
       "      <th></th>\n",
       "      <th>num_police</th>\n",
       "    </tr>\n",
       "    <tr>\n",
       "      <th></th>\n",
       "      <th>num_police</th>\n",
       "    </tr>\n",
       "    <tr>\n",
       "      <th>image</th>\n",
       "      <th></th>\n",
       "    </tr>\n",
       "  </thead>\n",
       "  <tbody>\n",
       "    <tr>\n",
       "      <th>9743.jpg</th>\n",
       "      <td>3</td>\n",
       "    </tr>\n",
       "    <tr>\n",
       "      <th>9734.jpg</th>\n",
       "      <td>5</td>\n",
       "    </tr>\n",
       "    <tr>\n",
       "      <th>9740.jpg</th>\n",
       "      <td>5</td>\n",
       "    </tr>\n",
       "    <tr>\n",
       "      <th>9739.jpg</th>\n",
       "      <td>12</td>\n",
       "    </tr>\n",
       "    <tr>\n",
       "      <th>9718.jpg</th>\n",
       "      <td>6</td>\n",
       "    </tr>\n",
       "  </tbody>\n",
       "</table>\n",
       "</div>"
      ],
      "text/plain": [
       "         num_police\n",
       "         num_police\n",
       "image              \n",
       "9743.jpg          3\n",
       "9734.jpg          5\n",
       "9740.jpg          5\n",
       "9739.jpg         12\n",
       "9718.jpg          6"
      ]
     },
<<<<<<< HEAD
     "execution_count": 61,
=======
     "execution_count": 15,
>>>>>>> main
     "metadata": {},
     "output_type": "execute_result"
    }
   ],
   "source": [
    "df_police_presence = pd.read_csv(path/'image-content-features/object-detection/police-presence/image_201509_onlyrefugee_police.csv')\n",
    "df_police_presence.set_index('Unnamed: 0', inplace=True)\n",
    "df_police_presence.rename_axis('image', axis=0,inplace=True)\n",
    "\n",
    "df_police_presence.index = df_police_presence.index.str.extract('(\\d+\\.jpg)', expand=False)\n",
    "df_police_presence.columns = pd.MultiIndex.from_tuples([('num_police', col) for col in df_police_presence.columns])\n",
    "df_police_presence.head()"
   ]
  },
  {
   "cell_type": "markdown",
   "metadata": {},
   "source": [
    "# Aggregate the dataframes by joining on index. "
   ]
  },
  {
   "cell_type": "code",
<<<<<<< HEAD
   "execution_count": 62,
=======
   "execution_count": 16,
>>>>>>> main
   "metadata": {},
   "outputs": [],
   "source": [
    "dfs = [df_cam_angle, df_color_diversity, df_age_gender_race, df_camera_shot, \n",
    "              df_eye_contact, df_facial_expression, df_num_people, df_police_presence]"
   ]
  },
  {
   "cell_type": "code",
<<<<<<< HEAD
   "execution_count": 63,
=======
   "execution_count": 17,
>>>>>>> main
   "metadata": {},
   "outputs": [],
   "source": [
    "from functools import reduce\n",
    "import pandas as pd\n",
    "\n",
    "# Assuming dfs is a list of your DataFrames: [df1, df2, df3, ...]\n",
    "joined_df = reduce(lambda left, right: pd.merge(left, right, left_index=True, right_index=True, how='inner'), dfs)\n"
   ]
  },
  {
   "cell_type": "code",
<<<<<<< HEAD
   "execution_count": 64,
=======
   "execution_count": 18,
>>>>>>> main
   "metadata": {},
   "outputs": [],
   "source": [
    "# Sort image by index, e.g. 1.jpg, 2.jpg, 3.jpg, etc, but it shouldn't be 0.jpg, 1.jpg, 10.jpg, 100.jpg, 1000.jpg, etc.\n",
    "joined_df.sort_index(key=lambda x: x.str.extract('(\\d+)', expand=False).astype(int), inplace=True)"
   ]
  },
  {
   "cell_type": "code",
<<<<<<< HEAD
   "execution_count": 65,
=======
   "execution_count": 19,
>>>>>>> main
   "metadata": {},
   "outputs": [
    {
     "data": {
      "text/html": [
       "<div>\n",
       "<style scoped>\n",
       "    .dataframe tbody tr th:only-of-type {\n",
       "        vertical-align: middle;\n",
       "    }\n",
       "\n",
       "    .dataframe tbody tr th {\n",
       "        vertical-align: top;\n",
       "    }\n",
       "\n",
       "    .dataframe thead tr th {\n",
       "        text-align: left;\n",
       "    }\n",
       "\n",
       "    .dataframe thead tr:last-of-type th {\n",
       "        text-align: right;\n",
       "    }\n",
       "</style>\n",
       "<table border=\"1\" class=\"dataframe\">\n",
       "  <thead>\n",
       "    <tr>\n",
       "      <th></th>\n",
       "      <th>cam_angle</th>\n",
       "      <th>color_entropy</th>\n",
       "      <th colspan=\"8\" halign=\"left\">age_gender_race</th>\n",
       "      <th>...</th>\n",
       "      <th>camera_shot</th>\n",
       "      <th>num_eye_contact</th>\n",
       "      <th colspan=\"6\" halign=\"left\">expression</th>\n",
       "      <th>num_people</th>\n",
       "      <th>num_police</th>\n",
       "    </tr>\n",
       "    <tr>\n",
       "      <th></th>\n",
       "      <th>cam_angle</th>\n",
       "      <th>color_entropy</th>\n",
       "      <th>AdultFemaleAA</th>\n",
       "      <th>AdultFemaleAsian</th>\n",
       "      <th>AdultFemaleLat</th>\n",
       "      <th>AdultFemaleWhite</th>\n",
       "      <th>AdultMaleAA</th>\n",
       "      <th>AdultMaleAsian</th>\n",
       "      <th>AdultMaleLat</th>\n",
       "      <th>AdultMaleWhite</th>\n",
       "      <th>...</th>\n",
<<<<<<< HEAD
       "      <th>camera-shot</th>\n",
=======
       "      <th>camera_shot</th>\n",
>>>>>>> main
       "      <th>num_eye_contact</th>\n",
       "      <th>angry</th>\n",
       "      <th>disappointed</th>\n",
       "      <th>happy</th>\n",
       "      <th>neutral</th>\n",
       "      <th>sad</th>\n",
       "      <th>surprised</th>\n",
       "      <th>num_people</th>\n",
       "      <th>num_police</th>\n",
       "    </tr>\n",
       "    <tr>\n",
       "      <th>image</th>\n",
       "      <th></th>\n",
       "      <th></th>\n",
       "      <th></th>\n",
       "      <th></th>\n",
       "      <th></th>\n",
       "      <th></th>\n",
       "      <th></th>\n",
       "      <th></th>\n",
       "      <th></th>\n",
       "      <th></th>\n",
       "      <th></th>\n",
       "      <th></th>\n",
       "      <th></th>\n",
       "      <th></th>\n",
       "      <th></th>\n",
       "      <th></th>\n",
       "      <th></th>\n",
       "      <th></th>\n",
       "      <th></th>\n",
       "      <th></th>\n",
       "      <th></th>\n",
       "    </tr>\n",
       "  </thead>\n",
       "  <tbody>\n",
       "    <tr>\n",
       "      <th>0.jpg</th>\n",
       "      <td>0.552239</td>\n",
       "      <td>20.330551</td>\n",
       "      <td>0.0</td>\n",
       "      <td>0.0</td>\n",
       "      <td>0.0</td>\n",
       "      <td>1.0</td>\n",
       "      <td>0.0</td>\n",
       "      <td>0.0</td>\n",
       "      <td>0.0</td>\n",
       "      <td>0.0</td>\n",
       "      <td>...</td>\n",
       "      <td>CS</td>\n",
       "      <td>1</td>\n",
       "      <td>0.0</td>\n",
       "      <td>0.0</td>\n",
       "      <td>0.0</td>\n",
       "      <td>1.0</td>\n",
       "      <td>0.0</td>\n",
       "      <td>0.0</td>\n",
       "      <td>3</td>\n",
       "      <td>5</td>\n",
       "    </tr>\n",
       "    <tr>\n",
       "      <th>11.jpg</th>\n",
       "      <td>0.534389</td>\n",
       "      <td>21.950280</td>\n",
       "      <td>0.0</td>\n",
       "      <td>0.0</td>\n",
       "      <td>0.0</td>\n",
       "      <td>0.0</td>\n",
       "      <td>0.0</td>\n",
       "      <td>0.0</td>\n",
       "      <td>0.0</td>\n",
       "      <td>0.0</td>\n",
       "      <td>...</td>\n",
       "      <td>FS</td>\n",
       "      <td>0</td>\n",
       "      <td>0.0</td>\n",
       "      <td>0.0</td>\n",
       "      <td>0.0</td>\n",
       "      <td>0.0</td>\n",
       "      <td>0.0</td>\n",
       "      <td>0.0</td>\n",
       "      <td>3</td>\n",
       "      <td>2</td>\n",
       "    </tr>\n",
       "    <tr>\n",
       "      <th>14.jpg</th>\n",
       "      <td>4.768018</td>\n",
       "      <td>21.627480</td>\n",
       "      <td>0.0</td>\n",
       "      <td>0.0</td>\n",
       "      <td>0.0</td>\n",
       "      <td>0.0</td>\n",
       "      <td>1.0</td>\n",
       "      <td>0.0</td>\n",
       "      <td>1.0</td>\n",
       "      <td>1.0</td>\n",
       "      <td>...</td>\n",
       "      <td>MS</td>\n",
       "      <td>1</td>\n",
       "      <td>0.0</td>\n",
       "      <td>0.0</td>\n",
       "      <td>0.0</td>\n",
       "      <td>0.0</td>\n",
       "      <td>0.0</td>\n",
       "      <td>0.0</td>\n",
       "      <td>4</td>\n",
       "      <td>7</td>\n",
       "    </tr>\n",
       "    <tr>\n",
       "      <th>15.jpg</th>\n",
       "      <td>0.737570</td>\n",
       "      <td>19.947170</td>\n",
       "      <td>0.0</td>\n",
       "      <td>0.0</td>\n",
       "      <td>0.0</td>\n",
       "      <td>0.0</td>\n",
       "      <td>0.0</td>\n",
       "      <td>0.0</td>\n",
       "      <td>0.0</td>\n",
       "      <td>0.0</td>\n",
       "      <td>...</td>\n",
       "      <td>MS</td>\n",
       "      <td>3</td>\n",
       "      <td>0.0</td>\n",
       "      <td>0.0</td>\n",
       "      <td>0.0</td>\n",
       "      <td>0.0</td>\n",
       "      <td>0.0</td>\n",
       "      <td>0.0</td>\n",
       "      <td>0</td>\n",
       "      <td>9</td>\n",
       "    </tr>\n",
       "    <tr>\n",
       "      <th>17.jpg</th>\n",
       "      <td>1.446305</td>\n",
       "      <td>19.344257</td>\n",
       "      <td>0.0</td>\n",
       "      <td>0.0</td>\n",
       "      <td>0.0</td>\n",
       "      <td>0.0</td>\n",
       "      <td>0.0</td>\n",
       "      <td>0.0</td>\n",
       "      <td>0.0</td>\n",
       "      <td>1.0</td>\n",
       "      <td>...</td>\n",
       "      <td>CS</td>\n",
       "      <td>0</td>\n",
       "      <td>0.0</td>\n",
       "      <td>0.0</td>\n",
       "      <td>0.0</td>\n",
       "      <td>1.0</td>\n",
       "      <td>0.0</td>\n",
       "      <td>0.0</td>\n",
       "      <td>3</td>\n",
       "      <td>4</td>\n",
       "    </tr>\n",
       "  </tbody>\n",
       "</table>\n",
       "<p>5 rows × 62 columns</p>\n",
       "</div>"
      ],
      "text/plain": [
       "       cam_angle color_entropy age_gender_race                   \\\n",
       "       cam_angle color_entropy   AdultFemaleAA AdultFemaleAsian   \n",
       "image                                                             \n",
       "0.jpg   0.552239     20.330551             0.0              0.0   \n",
       "11.jpg  0.534389     21.950280             0.0              0.0   \n",
       "14.jpg  4.768018     21.627480             0.0              0.0   \n",
       "15.jpg  0.737570     19.947170             0.0              0.0   \n",
       "17.jpg  1.446305     19.344257             0.0              0.0   \n",
       "\n",
       "                                                                   \\\n",
       "       AdultFemaleLat AdultFemaleWhite AdultMaleAA AdultMaleAsian   \n",
       "image                                                               \n",
       "0.jpg             0.0              1.0         0.0            0.0   \n",
       "11.jpg            0.0              0.0         0.0            0.0   \n",
       "14.jpg            0.0              0.0         1.0            0.0   \n",
       "15.jpg            0.0              0.0         0.0            0.0   \n",
       "17.jpg            0.0              0.0         0.0            0.0   \n",
       "\n",
       "                                    ... camera_shot num_eye_contact  \\\n",
<<<<<<< HEAD
       "       AdultMaleLat AdultMaleWhite  ... camera-shot num_eye_contact   \n",
=======
       "       AdultMaleLat AdultMaleWhite  ... camera_shot num_eye_contact   \n",
>>>>>>> main
       "image                               ...                               \n",
       "0.jpg           0.0            0.0  ...          CS               1   \n",
       "11.jpg          0.0            0.0  ...          FS               0   \n",
       "14.jpg          1.0            1.0  ...          MS               1   \n",
       "15.jpg          0.0            0.0  ...          MS               3   \n",
       "17.jpg          0.0            1.0  ...          CS               0   \n",
       "\n",
       "       expression                                           num_people  \\\n",
       "            angry disappointed happy neutral  sad surprised num_people   \n",
       "image                                                                    \n",
       "0.jpg         0.0          0.0   0.0     1.0  0.0       0.0          3   \n",
       "11.jpg        0.0          0.0   0.0     0.0  0.0       0.0          3   \n",
       "14.jpg        0.0          0.0   0.0     0.0  0.0       0.0          4   \n",
       "15.jpg        0.0          0.0   0.0     0.0  0.0       0.0          0   \n",
       "17.jpg        0.0          0.0   0.0     1.0  0.0       0.0          3   \n",
       "\n",
       "       num_police  \n",
       "       num_police  \n",
       "image              \n",
       "0.jpg           5  \n",
       "11.jpg          2  \n",
       "14.jpg          7  \n",
       "15.jpg          9  \n",
       "17.jpg          4  \n",
       "\n",
       "[5 rows x 62 columns]"
      ]
     },
<<<<<<< HEAD
     "execution_count": 65,
=======
     "execution_count": 19,
>>>>>>> main
     "metadata": {},
     "output_type": "execute_result"
    }
   ],
   "source": [
    "joined_df.head()"
   ]
  },
  {
   "cell_type": "code",
<<<<<<< HEAD
   "execution_count": 66,
=======
   "execution_count": 20,
>>>>>>> main
   "metadata": {},
   "outputs": [],
   "source": [
    "joined_df.to_csv('all_preds.csv')"
   ]
  }
 ],
 "metadata": {
  "kernelspec": {
   "display_name": "Python 3",
   "language": "python",
   "name": "python3"
  },
  "language_info": {
   "codemirror_mode": {
    "name": "ipython",
    "version": 3
   },
   "file_extension": ".py",
   "mimetype": "text/x-python",
   "name": "python",
   "nbconvert_exporter": "python",
   "pygments_lexer": "ipython3",
   "version": "3.11.6"
  }
 },
 "nbformat": 4,
 "nbformat_minor": 2
}
