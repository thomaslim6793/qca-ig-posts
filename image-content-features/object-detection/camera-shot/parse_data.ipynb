{
 "cells": [
  {
   "cell_type": "code",
   "execution_count": 75,
   "metadata": {},
   "outputs": [],
   "source": [
    "import json\n",
    "import os\n",
    "import cv2\n",
    "import shutil\n",
    "import glob\n",
    "import random"
   ]
  },
  {
   "cell_type": "code",
   "execution_count": 76,
   "metadata": {},
   "outputs": [],
   "source": [
    "# First create a folder for my dataset called \"camera_shot\", and sub-folders train, valid, test.\n",
    "def create_dataset_folders(dataset_name):\n",
    "    subfolders = ['train', 'valid', 'test']\n",
    "\n",
    "    for subfolder in subfolders:\n",
    "        path = os.path.join(dataset_name, subfolder)\n",
    "        os.makedirs(path, exist_ok=True)\n",
    "\n",
    "# Usage\n",
    "create_dataset_folders(\"camera_shot_data\")"
   ]
  },
  {
   "cell_type": "code",
   "execution_count": 77,
   "metadata": {},
   "outputs": [],
   "source": [
    "# Load the JSON file\n",
    "with open('v1_split_trailer.json') as f:\n",
    "    data = json.load(f)"
   ]
  },
  {
   "cell_type": "code",
   "execution_count": 78,
   "metadata": {},
   "outputs": [],
   "source": [
    "# Transform the JSON structure\n",
    "for split in data:\n",
    "    for example in data[split]:\n",
    "        clip_name = list(data[split][example].keys())[0]\n",
    "        temp = {\"clip_name\": 'shot_' + clip_name + '.mp4', \n",
    "                \"label\": data[split][example][clip_name][\"scale\"]['label'],\n",
    "                \"value\": data[split][example][clip_name][\"scale\"]['value'],}\n",
    "        data[split][example] = temp\n",
    "\n",
    "# Save the transformed JSON\n",
    "with open('camera_shot_split.json', 'w') as f:\n",
    "    json.dump(data, f, indent=4)"
   ]
  },
  {
   "cell_type": "code",
   "execution_count": 79,
   "metadata": {},
   "outputs": [
    {
     "name": "stdout",
     "output_type": "stream",
     "text": [
      "{1: 'CS', 2: 'MS', 0: 'ECS', 3: 'FS', 4: 'LS'}\n"
     ]
    }
   ],
   "source": [
    "# Now get a dictionary of all classes\n",
    "# I.e. I want class_dict = {0: 'EC', 1: 'CS', 2: 'MS', 3: 'FS', 4: 'LS'} (or some other order, given that files usually are alphabetically sorted\n",
    "# it would more likely be {0: 'CS', 1: 'EC', 2: 'FS', 3: 'LS', 4: 'MS'})\n",
    "# 'EC': Extreme close-up \n",
    "# 'CS': Close-up shot\n",
    "# 'MS': Medium shot\n",
    "# 'FS': Full shot\n",
    "# 'LS': Long shot\n",
    "class_dict = {}\n",
    "for split in data:\n",
    "    for example in data[split]:\n",
    "        if data[split][example]['value'] not in class_dict.keys():\n",
    "            class_dict[data[split][example]['value']] = data[split][example]['label']\n",
    "print(class_dict)"
   ]
  },
  {
   "cell_type": "code",
   "execution_count": 80,
   "metadata": {},
   "outputs": [],
   "source": [
    "# Now for the keys in class_dict, create them as folders in train, test, and valid subfolders. of camera_shot\n",
    "# i.e. I want to create folders EC, CS, MS, FS, LS in train, valid, test.\n",
    "def create_class_folders(class_labels):\n",
    "    subfolders = ['train', 'valid', 'test']\n",
    "    for subfolder in subfolders:\n",
    "        for key in class_labels:\n",
    "            path = os.path.join(\"camera_shot_data\", subfolder, class_dict[key])\n",
    "            os.makedirs(path, exist_ok=True)\n",
    "create_class_folders(class_dict)"
   ]
  },
  {
   "cell_type": "code",
   "execution_count": 81,
   "metadata": {},
   "outputs": [],
   "source": [
    "# Now that we have the folders, it's time to move the files into the folders.\n",
    "# But first, we need to change the video file into a single image by first taking the\n",
    "# clip corresponding to clip_name field in our camera_shot_split.json file.\n",
    "# Then simply take the first frame of the clip and save it as a jpg file.\n",
    "# Lets define functions to do this. \n",
    "\n",
    "# First get the path to the clip whose first frame I need to extract.\n",
    "def get_clip_path(path_to_example, clip_name):\n",
    "    return os.path.join(path_to_example, clip_name)\n",
    "\n",
    "# Now get the first frame of the clip.\n",
    "def get_middle_frame(clip_path):\n",
    "    # Open the video file\n",
    "    cap = cv2.VideoCapture(clip_path)\n",
    "\n",
    "    # Check if video opened successfully\n",
    "    if not cap.isOpened():\n",
    "        print(\"Error opening video file\")\n",
    "\n",
    "    # Get the total number of frames in the video\n",
    "    total_frames = cap.get(cv2.CAP_PROP_FRAME_COUNT)\n",
    "\n",
    "    # Set the position of the video file capture to the middle frame\n",
    "    cap.set(cv2.CAP_PROP_POS_FRAMES, total_frames // 2)\n",
    "\n",
    "    # Read the middle frame\n",
    "    ret, frame = cap.read()\n",
    "\n",
    "    # Release the VideoCapture object\n",
    "    cap.release()\n",
    "\n",
    "    # If frame is read correctly, ret is True\n",
    "    if ret:\n",
    "        # Return the middle frame as image data\n",
    "        return frame\n",
    "    else:\n",
    "        return None\n",
    "\n",
    "# Now save the image data as a jpg file.\n",
    "def save_image(image_data, filename):\n",
    "    # Save the image data as a jpg image file\n",
    "    cv2.imwrite(filename, image_data)"
   ]
  },
  {
   "cell_type": "code",
   "execution_count": 88,
   "metadata": {},
   "outputs": [],
   "source": [
    "# Finally, traverse through the entire dataset and save the first frame of each clip as a jpg file,\n",
    "# into the corresponding folder. So we have to use the camera_shot_split.json file to get the clip_name,\n",
    "# and the class label, and then save the image either into train, valid, or test folder.\n",
    "\n",
    "# Load the JSON file\n",
    "with open('camera_shot_split.json') as f:\n",
    "    data = json.load(f)\n",
    "\n",
    "# First get the path to the clip whose first frame I need to extract.\n",
    "DATASET_PATH = '/Users/thomaslim/trailer'\n",
    "for split in data:\n",
    "    for example in data[split]:\n",
    "        clip_name = data[split][example]['clip_name']\n",
    "        clip_path = get_clip_path(os.path.join(DATASET_PATH, example), clip_name)\n",
    "        image_data = get_middle_frame(clip_path)\n",
    "        if image_data is not None:\n",
    "            # Save the image data as a jpg image file\n",
    "            save_image(image_data, os.path.join('camera_shot_data', split, data[split][example]['label'], clip_name+'.jpg'))"
   ]
  },
  {
   "cell_type": "code",
   "execution_count": 90,
   "metadata": {},
   "outputs": [],
   "source": [
    "# Since the dataset split is in terms of only train and test, I need to split the train into train and valid.\n",
    "# Basically for each class label folder in train move 20% of the files into valid.\n",
    "\n",
    "# First get the list of all class label folders in train.\n",
    "train_path = os.path.join('camera_shot_data', 'train')\n",
    "class_labels = os.listdir(train_path)\n",
    "\n",
    "# Now for each class label folder in train, move 20% of the files into valid.\n",
    "for label in class_labels:\n",
    "    # Get all the files in the class label folder\n",
    "    files = glob.glob(os.path.join(train_path, label, '*'))\n",
    "    \n",
    "    # Shuffle the files\n",
    "    random.shuffle(files)\n",
    "    \n",
    "    # Calculate the number of files to move\n",
    "    num_to_move = int(len(files) * 0.2)\n",
    "    \n",
    "    # Get the files to move\n",
    "    files_to_move = files[:num_to_move]\n",
    "    \n",
    "    # Create the corresponding folder in 'valid' if it doesn't exist\n",
    "    valid_folder = os.path.join('camera_shot_data', 'valid', label)\n",
    "    os.makedirs(valid_folder, exist_ok=True)\n",
    "    \n",
    "    # Move the files\n",
    "    for file in files_to_move:\n",
    "        shutil.move(file, valid_folder)"
   ]
  },
  {
   "cell_type": "code",
   "execution_count": 92,
   "metadata": {},
   "outputs": [],
   "source": [
    "# Get number of training data\n",
    "num_train = 0\n",
    "for label in class_labels:\n",
    "    num_train += len(os.listdir(os.path.join(train_path, label)))"
   ]
  },
  {
   "cell_type": "code",
   "execution_count": 93,
   "metadata": {},
   "outputs": [
    {
     "data": {
      "text/plain": [
       "211"
      ]
     },
     "execution_count": 93,
     "metadata": {},
     "output_type": "execute_result"
    }
   ],
   "source": [
    "num_train"
   ]
  }
 ],
 "metadata": {
  "kernelspec": {
   "display_name": "Python 3",
   "language": "python",
   "name": "python3"
  },
  "language_info": {
   "codemirror_mode": {
    "name": "ipython",
    "version": 3
   },
   "file_extension": ".py",
   "mimetype": "text/x-python",
   "name": "python",
   "nbconvert_exporter": "python",
   "pygments_lexer": "ipython3",
   "version": "3.11.6"
  }
 },
 "nbformat": 4,
 "nbformat_minor": 2
}
