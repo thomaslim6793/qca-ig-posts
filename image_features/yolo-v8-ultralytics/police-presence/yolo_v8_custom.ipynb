{
 "cells": [
  {
   "cell_type": "code",
   "execution_count": 17,
   "metadata": {},
   "outputs": [
    {
     "name": "stdout",
     "output_type": "stream",
     "text": [
      "\n",
      "0: 640x640 7 Polices, 1: 640x640 20 Polices, 523.3ms\n",
      "Speed: 3.7ms preprocess, 261.7ms inference, 0.5ms postprocess per image at shape (1, 3, 640, 640)\n"
     ]
    }
   ],
   "source": [
    "from ultralytics import YOLO\n",
    "\n",
    "model = YOLO('PoliceModel.pt')\n",
    "results = model(['/Users/thomaslim/data/police_images/image7.jpg', '/Users/thomaslim/data/police_images/image10.jpg'])"
   ]
  },
  {
   "cell_type": "code",
   "execution_count": 39,
   "metadata": {},
   "outputs": [
    {
     "name": "stdout",
     "output_type": "stream",
     "text": [
      "{'/Users/thomaslim/data/police_images/image7.jpg': 7, '/Users/thomaslim/data/police_images/image10.jpg': 20}\n"
     ]
    }
   ],
   "source": [
    "class_dict = results[0].names\n",
    "data = {}\n",
    "for result in results:\n",
    "    path = result.path\n",
    "    num_detected = len(result.boxes.cls)\n",
    "    data[path] = num_detected\n",
    "print(data)"
   ]
  }
 ],
 "metadata": {
  "kernelspec": {
   "display_name": "Python 3",
   "language": "python",
   "name": "python3"
  },
  "language_info": {
   "codemirror_mode": {
    "name": "ipython",
    "version": 3
   },
   "file_extension": ".py",
   "mimetype": "text/x-python",
   "name": "python",
   "nbconvert_exporter": "python",
   "pygments_lexer": "ipython3",
   "version": "3.11.5"
  }
 },
 "nbformat": 4,
 "nbformat_minor": 2
}
